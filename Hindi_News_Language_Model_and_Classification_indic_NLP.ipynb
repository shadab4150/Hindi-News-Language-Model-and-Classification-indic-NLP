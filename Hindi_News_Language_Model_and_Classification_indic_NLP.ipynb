{
  "nbformat": 4,
  "nbformat_minor": 0,
  "metadata": {
    "colab": {
      "name": "Hindi News Language Model and Classification indic NLP.ipynb",
      "provenance": [],
      "authorship_tag": "ABX9TyNzFF67mPlU3AqyPj+oPQXl",
      "include_colab_link": true
    },
    "kernelspec": {
      "name": "python3",
      "display_name": "Python 3"
    },
    "accelerator": "GPU"
  },
  "cells": [
    {
      "cell_type": "markdown",
      "metadata": {
        "id": "view-in-github",
        "colab_type": "text"
      },
      "source": [
        "<a href=\"https://colab.research.google.com/github/shadab4150/Hindi-News-Language-Model-and-Classification-indic-NLP/blob/master/Hindi_News_Language_Model_and_Classification_indic_NLP.ipynb\" target=\"_parent\"><img src=\"https://colab.research.google.com/assets/colab-badge.svg\" alt=\"Open In Colab\"/></a>"
      ]
    },
    {
      "cell_type": "code",
      "metadata": {
        "id": "ZJ1WM1isgaIb",
        "colab_type": "code",
        "colab": {
          "base_uri": "https://localhost:8080/",
          "height": 122
        },
        "outputId": "ac2b8613-02d4-4441-afc3-737a1c2debe3"
      },
      "source": [
        "from google.colab import drive\n",
        "drive.mount('/content/drive')"
      ],
      "execution_count": 1,
      "outputs": [
        {
          "output_type": "stream",
          "text": [
            "Go to this URL in a browser: https://accounts.google.com/o/oauth2/auth?client_id=947318989803-6bn6qk8qdgf4n4g3pfee6491hc0brc4i.apps.googleusercontent.com&redirect_uri=urn%3aietf%3awg%3aoauth%3a2.0%3aoob&response_type=code&scope=email%20https%3a%2f%2fwww.googleapis.com%2fauth%2fdocs.test%20https%3a%2f%2fwww.googleapis.com%2fauth%2fdrive%20https%3a%2f%2fwww.googleapis.com%2fauth%2fdrive.photos.readonly%20https%3a%2f%2fwww.googleapis.com%2fauth%2fpeopleapi.readonly\n",
            "\n",
            "Enter your authorization code:\n",
            "··········\n",
            "Mounted at /content/drive\n"
          ],
          "name": "stdout"
        }
      ]
    },
    {
      "cell_type": "code",
      "metadata": {
        "id": "9vUy4cURh-Pr",
        "colab_type": "code",
        "colab": {
          "base_uri": "https://localhost:8080/",
          "height": 102
        },
        "outputId": "46ee22b7-3be0-4e2d-ec58-69ad24389f23"
      },
      "source": [
        "!unzip '/content/drive/My Drive/Dataset/hindi2vec.zip' -d '/content/'"
      ],
      "execution_count": 2,
      "outputs": [
        {
          "output_type": "stream",
          "text": [
            "Archive:  /content/drive/My Drive/Dataset/hindi2vec.zip\n",
            "   creating: /content/hindi2vec/\n",
            "  inflating: /content/hindi2vec/bbc-hindi-news.json  \n",
            "  inflating: /content/hindi2vec/hindi-test.csv  \n",
            "  inflating: /content/hindi2vec/hindi-train.csv  \n"
          ],
          "name": "stdout"
        }
      ]
    },
    {
      "cell_type": "code",
      "metadata": {
        "id": "51cdyxCTiwbw",
        "colab_type": "code",
        "colab": {}
      },
      "source": [
        "from fastai.text import *\n",
        "import pandas as pd\n",
        "import gc\n",
        "import numpy as np\n",
        "import matplotlib.pyplot as plt\n",
        "import seaborn as sns\n",
        "from pathlib import Path"
      ],
      "execution_count": 0,
      "outputs": []
    },
    {
      "cell_type": "code",
      "metadata": {
        "id": "Nsf4nd8yi7Pp",
        "colab_type": "code",
        "colab": {}
      },
      "source": [
        "df_trn = pd.read_csv('/content/hindi2vec/hindi-train.csv', sep=\"\\t\", encoding='utf-8', header=None)\n",
        "df_val = pd.read_csv('/content/hindi2vec/hindi-test.csv', sep=\"\\t\", encoding='utf-8', header=None)\n",
        "df_val.columns=['category','text']\n",
        "df_trn.columns=['category','text']"
      ],
      "execution_count": 0,
      "outputs": []
    },
    {
      "cell_type": "code",
      "metadata": {
        "id": "mlCmYHxAjcO7",
        "colab_type": "code",
        "colab": {
          "base_uri": "https://localhost:8080/",
          "height": 204
        },
        "outputId": "a1d56c2b-cfe6-410c-d6f4-e22d5c93e84a"
      },
      "source": [
        "df_trn.head()"
      ],
      "execution_count": 5,
      "outputs": [
        {
          "output_type": "execute_result",
          "data": {
            "text/html": [
              "<div>\n",
              "<style scoped>\n",
              "    .dataframe tbody tr th:only-of-type {\n",
              "        vertical-align: middle;\n",
              "    }\n",
              "\n",
              "    .dataframe tbody tr th {\n",
              "        vertical-align: top;\n",
              "    }\n",
              "\n",
              "    .dataframe thead th {\n",
              "        text-align: right;\n",
              "    }\n",
              "</style>\n",
              "<table border=\"1\" class=\"dataframe\">\n",
              "  <thead>\n",
              "    <tr style=\"text-align: right;\">\n",
              "      <th></th>\n",
              "      <th>category</th>\n",
              "      <th>text</th>\n",
              "    </tr>\n",
              "  </thead>\n",
              "  <tbody>\n",
              "    <tr>\n",
              "      <th>0</th>\n",
              "      <td>india</td>\n",
              "      <td>मेट्रो की इस लाइन के चलने से दक्षिणी दिल्ली से...</td>\n",
              "    </tr>\n",
              "    <tr>\n",
              "      <th>1</th>\n",
              "      <td>pakistan</td>\n",
              "      <td>नेटिजन यानि इंटरनेट पर सक्रिय नागरिक अब ट्विटर...</td>\n",
              "    </tr>\n",
              "    <tr>\n",
              "      <th>2</th>\n",
              "      <td>news</td>\n",
              "      <td>इसमें एक फ़्लाइट एटेनडेंट की मदद की गुहार है औ...</td>\n",
              "    </tr>\n",
              "    <tr>\n",
              "      <th>3</th>\n",
              "      <td>india</td>\n",
              "      <td>प्रतीक खुलेपन का, आज़ाद ख्याली का और भीड़ से अ...</td>\n",
              "    </tr>\n",
              "    <tr>\n",
              "      <th>4</th>\n",
              "      <td>india</td>\n",
              "      <td>ख़ासकर पिछले 10 साल तक प्रधानमंत्री रहे मनमोहन...</td>\n",
              "    </tr>\n",
              "  </tbody>\n",
              "</table>\n",
              "</div>"
            ],
            "text/plain": [
              "   category                                               text\n",
              "0     india  मेट्रो की इस लाइन के चलने से दक्षिणी दिल्ली से...\n",
              "1  pakistan  नेटिजन यानि इंटरनेट पर सक्रिय नागरिक अब ट्विटर...\n",
              "2      news  इसमें एक फ़्लाइट एटेनडेंट की मदद की गुहार है औ...\n",
              "3     india  प्रतीक खुलेपन का, आज़ाद ख्याली का और भीड़ से अ...\n",
              "4     india  ख़ासकर पिछले 10 साल तक प्रधानमंत्री रहे मनमोहन..."
            ]
          },
          "metadata": {
            "tags": []
          },
          "execution_count": 5
        }
      ]
    },
    {
      "cell_type": "code",
      "metadata": {
        "id": "rv1LOGeujd3h",
        "colab_type": "code",
        "colab": {
          "base_uri": "https://localhost:8080/",
          "height": 204
        },
        "outputId": "9daf6fa9-e0fc-400a-feec-98eaefaf5536"
      },
      "source": [
        "df_val.head()"
      ],
      "execution_count": 6,
      "outputs": [
        {
          "output_type": "execute_result",
          "data": {
            "text/html": [
              "<div>\n",
              "<style scoped>\n",
              "    .dataframe tbody tr th:only-of-type {\n",
              "        vertical-align: middle;\n",
              "    }\n",
              "\n",
              "    .dataframe tbody tr th {\n",
              "        vertical-align: top;\n",
              "    }\n",
              "\n",
              "    .dataframe thead th {\n",
              "        text-align: right;\n",
              "    }\n",
              "</style>\n",
              "<table border=\"1\" class=\"dataframe\">\n",
              "  <thead>\n",
              "    <tr style=\"text-align: right;\">\n",
              "      <th></th>\n",
              "      <th>category</th>\n",
              "      <th>text</th>\n",
              "    </tr>\n",
              "  </thead>\n",
              "  <tbody>\n",
              "    <tr>\n",
              "      <th>0</th>\n",
              "      <td>india</td>\n",
              "      <td>बुधवार को राज्य सभा में विपक्ष के सवालों के जव...</td>\n",
              "    </tr>\n",
              "    <tr>\n",
              "      <th>1</th>\n",
              "      <td>india</td>\n",
              "      <td>लखनऊ स्थित पत्रकार समीरात्मज मिश्र को बुलंदशहर...</td>\n",
              "    </tr>\n",
              "    <tr>\n",
              "      <th>2</th>\n",
              "      <td>india</td>\n",
              "      <td>लगभग 1300 हेक्टेयर ज़मीन का अधिग्रहण किया जा च...</td>\n",
              "    </tr>\n",
              "    <tr>\n",
              "      <th>3</th>\n",
              "      <td>international</td>\n",
              "      <td>हालांकि उनके अंगरक्षकों को बमों को जाम करने वा...</td>\n",
              "    </tr>\n",
              "    <tr>\n",
              "      <th>4</th>\n",
              "      <td>india</td>\n",
              "      <td>आयोग का कहना है कि इस तरह के परीक्षण से महिलाओ...</td>\n",
              "    </tr>\n",
              "  </tbody>\n",
              "</table>\n",
              "</div>"
            ],
            "text/plain": [
              "        category                                               text\n",
              "0          india  बुधवार को राज्य सभा में विपक्ष के सवालों के जव...\n",
              "1          india  लखनऊ स्थित पत्रकार समीरात्मज मिश्र को बुलंदशहर...\n",
              "2          india  लगभग 1300 हेक्टेयर ज़मीन का अधिग्रहण किया जा च...\n",
              "3  international  हालांकि उनके अंगरक्षकों को बमों को जाम करने वा...\n",
              "4          india  आयोग का कहना है कि इस तरह के परीक्षण से महिलाओ..."
            ]
          },
          "metadata": {
            "tags": []
          },
          "execution_count": 6
        }
      ]
    },
    {
      "cell_type": "code",
      "metadata": {
        "id": "FPP_9HZnjnp0",
        "colab_type": "code",
        "colab": {}
      },
      "source": [
        "train = pd.concat([df_trn[['text']],df_val[['text']]])\n",
        "train.dropna(inplace=True)\n",
        "train_df = pd.concat([df_trn[['category','text']],df_val[['category','text']]])\n",
        "train_df.dropna(inplace=True)"
      ],
      "execution_count": 0,
      "outputs": []
    },
    {
      "cell_type": "code",
      "metadata": {
        "id": "KZJI9YXKrjWQ",
        "colab_type": "code",
        "colab": {
          "base_uri": "https://localhost:8080/",
          "height": 51
        },
        "outputId": "47bc477b-82c8-4ebf-8aae-40735cbf6335"
      },
      "source": [
        "print(train.isna().sum())\n",
        "train.dropna(inplace=True)"
      ],
      "execution_count": 9,
      "outputs": [
        {
          "output_type": "stream",
          "text": [
            "text    2\n",
            "dtype: int64\n"
          ],
          "name": "stdout"
        }
      ]
    },
    {
      "cell_type": "code",
      "metadata": {
        "id": "EAeyfmLyrx1N",
        "colab_type": "code",
        "colab": {
          "base_uri": "https://localhost:8080/",
          "height": 204
        },
        "outputId": "84630699-8eaf-4379-ed06-491ec2bb8a7e"
      },
      "source": [
        "train.head()"
      ],
      "execution_count": 10,
      "outputs": [
        {
          "output_type": "execute_result",
          "data": {
            "text/html": [
              "<div>\n",
              "<style scoped>\n",
              "    .dataframe tbody tr th:only-of-type {\n",
              "        vertical-align: middle;\n",
              "    }\n",
              "\n",
              "    .dataframe tbody tr th {\n",
              "        vertical-align: top;\n",
              "    }\n",
              "\n",
              "    .dataframe thead th {\n",
              "        text-align: right;\n",
              "    }\n",
              "</style>\n",
              "<table border=\"1\" class=\"dataframe\">\n",
              "  <thead>\n",
              "    <tr style=\"text-align: right;\">\n",
              "      <th></th>\n",
              "      <th>text</th>\n",
              "    </tr>\n",
              "  </thead>\n",
              "  <tbody>\n",
              "    <tr>\n",
              "      <th>0</th>\n",
              "      <td>मेट्रो की इस लाइन के चलने से दक्षिणी दिल्ली से...</td>\n",
              "    </tr>\n",
              "    <tr>\n",
              "      <th>1</th>\n",
              "      <td>नेटिजन यानि इंटरनेट पर सक्रिय नागरिक अब ट्विटर...</td>\n",
              "    </tr>\n",
              "    <tr>\n",
              "      <th>2</th>\n",
              "      <td>इसमें एक फ़्लाइट एटेनडेंट की मदद की गुहार है औ...</td>\n",
              "    </tr>\n",
              "    <tr>\n",
              "      <th>3</th>\n",
              "      <td>प्रतीक खुलेपन का, आज़ाद ख्याली का और भीड़ से अ...</td>\n",
              "    </tr>\n",
              "    <tr>\n",
              "      <th>4</th>\n",
              "      <td>ख़ासकर पिछले 10 साल तक प्रधानमंत्री रहे मनमोहन...</td>\n",
              "    </tr>\n",
              "  </tbody>\n",
              "</table>\n",
              "</div>"
            ],
            "text/plain": [
              "                                                text\n",
              "0  मेट्रो की इस लाइन के चलने से दक्षिणी दिल्ली से...\n",
              "1  नेटिजन यानि इंटरनेट पर सक्रिय नागरिक अब ट्विटर...\n",
              "2  इसमें एक फ़्लाइट एटेनडेंट की मदद की गुहार है औ...\n",
              "3  प्रतीक खुलेपन का, आज़ाद ख्याली का और भीड़ से अ...\n",
              "4  ख़ासकर पिछले 10 साल तक प्रधानमंत्री रहे मनमोहन..."
            ]
          },
          "metadata": {
            "tags": []
          },
          "execution_count": 10
        }
      ]
    },
    {
      "cell_type": "code",
      "metadata": {
        "id": "kmPrrWK0kvZY",
        "colab_type": "code",
        "colab": {}
      },
      "source": [
        "bs = 128\n",
        "path = Path('/content/')"
      ],
      "execution_count": 0,
      "outputs": []
    },
    {
      "cell_type": "code",
      "metadata": {
        "id": "3QgFTj76kSiD",
        "colab_type": "code",
        "colab": {
          "base_uri": "https://localhost:8080/",
          "height": 17
        },
        "outputId": "aeed898e-8c4d-4274-aae9-1fb425084555"
      },
      "source": [
        "data = (TextList.from_df(train,path=path)\n",
        "            .split_by_rand_pct(0.2, seed=42)\n",
        "            .label_for_lm()           \n",
        "            .databunch(bs=bs, num_workers=1))"
      ],
      "execution_count": 10,
      "outputs": [
        {
          "output_type": "display_data",
          "data": {
            "text/html": [
              ""
            ],
            "text/plain": [
              "<IPython.core.display.HTML object>"
            ]
          },
          "metadata": {
            "tags": []
          }
        },
        {
          "output_type": "display_data",
          "data": {
            "text/html": [
              ""
            ],
            "text/plain": [
              "<IPython.core.display.HTML object>"
            ]
          },
          "metadata": {
            "tags": []
          }
        }
      ]
    },
    {
      "cell_type": "code",
      "metadata": {
        "id": "Z0vdMD1Hk7wm",
        "colab_type": "code",
        "colab": {
          "base_uri": "https://localhost:8080/",
          "height": 337
        },
        "outputId": "e414f0e7-ec91-42a6-f3b3-a6c9dc6e0662"
      },
      "source": [
        "data.show_batch(rows=6)"
      ],
      "execution_count": 46,
      "outputs": [
        {
          "output_type": "display_data",
          "data": {
            "text/html": [
              "<table border=\"1\" class=\"dataframe\">\n",
              "  <thead>\n",
              "    <tr style=\"text-align: right;\">\n",
              "      <th>idx</th>\n",
              "      <th>text</th>\n",
              "    </tr>\n",
              "  </thead>\n",
              "  <tbody>\n",
              "    <tr>\n",
              "      <td>0</td>\n",
              "      <td>. मेट्रो के तीसरे xxunk में भारत में पहली बार ड्राइवरलेस तकनीक आएगी लेकिन दुनिया भर में कई देशों में ड्राइवरलेस मेट्रो पहले से ही चलती हैं . इन देशों में ड्राइवरलेस मेट्रो सफल भी रही हैं . दक्षिण कोरिया की राजधानी सोल में xxunk ट्रेन कामयाबी से चल रही है . ये मेट्रो ज़मीन के नीचे चलती है इसमें ड्राइवर का केबिन भी नहीं होता है . यूरोप में</td>\n",
              "    </tr>\n",
              "    <tr>\n",
              "      <td>1</td>\n",
              "      <td>करता है . इन ग्राहकों के पास या तो अधिक ताक़तवर इंजन वाली बाइक ख़रीदने का विकल्प है या फिर पुरानी मशीन को अपनी पसंद के मुताबिक xxunk लेने का . इनके सपने भारत की सड़कों पर चलने वाली ज्यादातर 125 सीसी के मोटरसाइकिलों के मालिकों से अलग हैं जिनकी तादाद तक़रीबन एक करोड़ होगी . इन मोटरसाइकिलों की क़ीमत 31 लाख रुपए तक हैं और उनके लिए ये विलासिता</td>\n",
              "    </tr>\n",
              "    <tr>\n",
              "      <td>2</td>\n",
              "      <td>ख़तरे के निशान को पार कर जाएगा . लेकिन उन्होंने इस बात पर जोर दिया था कि यह रेखा वो खुद नहीं बल्कि अंतरराष्ट्रीय समुदाय एक समझौते पर दस्तखत कर खींच रहा है , इसमें कहा गया है कि रासायनिक हथियारों का प्रयोग घृणित है और कांग्रेस इस समझौते को स्वीकार करती है . अमरीका दमिश्क के बाहरी इलाके में 21 अगस्त को हुए रासायनिक हमले के मृतकों की संख्या</td>\n",
              "    </tr>\n",
              "    <tr>\n",
              "      <td>3</td>\n",
              "      <td>चल गई . फिल्म में रणबीर अच्छे दिखे हैं , अभिनय अच्छा है और डांस भी ऐसा किया है कि दर्शकों का दिल जीत लें . इस नए सुपरस्टार के लिए एक और अवार्ड इंतज़ार कर रहा है . दीपिका का अभिनय भी बढ़िया है . नैना के किरदार में उन्होंने बहुत सारी परतें जोड़ी है जो उनके रोल को दिलचस्प बनाता है . आदित्य एकदम सहज अभिनय करते हैं</td>\n",
              "    </tr>\n",
              "    <tr>\n",
              "      <td>4</td>\n",
              "      <td>छंट गए , बिचौलियों का सफाया हो गया और सरकार का पैसा बच गया . असल में आधार नंबर हासिल करने और सबकुछ दुरुस्त होने के बाद भी लोगों को समझ नहीं आ रहा कि कहां ग़लती रह गई . अगर आधार की अनिवार्यता समाप्त होती है तो आम लोगों को भारी राहत मिलेगी . ग्राउंड रिपोर्ट : आधार कार्ड होने पर भी झारखंड में नहीं मिल रहा xxunk खेड़ा</td>\n",
              "    </tr>\n",
              "    <tr>\n",
              "      <td>5</td>\n",
              "      <td>की भूमिका निभाएंगे . पवार के बयान ने कांग्रेस और एनसीपी के संबंधों को साफ़ कर दिया है . इससे पहले कयास लगाए जा रहे थे कि वो यूपीए का साथ छोड़कर भारतीय जनता पार्टी की अगुवाई वाले राष्ट्रीय लोकतांत्रिक गठबंधन या एनडीए से नाता जोड़ सकते हैं . पवार ने कहा है कि एनडीए को पूर्ण बहुमत नहीं मिलने जा रहा है और कई ऐसे क्षेत्रीय दल हैं जो</td>\n",
              "    </tr>\n",
              "  </tbody>\n",
              "</table>"
            ],
            "text/plain": [
              "<IPython.core.display.HTML object>"
            ]
          },
          "metadata": {
            "tags": []
          }
        }
      ]
    },
    {
      "cell_type": "code",
      "metadata": {
        "id": "unjXUcc4l-Nk",
        "colab_type": "code",
        "colab": {
          "base_uri": "https://localhost:8080/",
          "height": 357
        },
        "outputId": "0fb7a343-75ac-4056-b31c-3f47d7e5cd6c"
      },
      "source": [
        "data.vocab.itos[-40:-20]"
      ],
      "execution_count": 36,
      "outputs": [
        {
          "output_type": "execute_result",
          "data": {
            "text/plain": [
              "['टीटीई',\n",
              " 'पांसे',\n",
              " 'मोनास्टेरेसे',\n",
              " '”कारमेला',\n",
              " 'स्टम्पिंग',\n",
              " 'ग़ौस',\n",
              " 'मधुबनी',\n",
              " 'पावलो',\n",
              " \"'वीज़ा\",\n",
              " 'कोविंद',\n",
              " 'बुकहोल्ज़',\n",
              " 'छेदना',\n",
              " 'पद्मावत',\n",
              " 'कालवी',\n",
              " 'दिप्रिडिक्टर',\n",
              " 'रेंस',\n",
              " 'कार्तिकेयन',\n",
              " 'इस्लर',\n",
              " 'वेनेज़ुएला',\n",
              " 'बॉस्को']"
            ]
          },
          "metadata": {
            "tags": []
          },
          "execution_count": 36
        }
      ]
    },
    {
      "cell_type": "markdown",
      "metadata": {
        "id": "oOfVip04sYy9",
        "colab_type": "text"
      },
      "source": [
        "## Mixed Precision Training"
      ]
    },
    {
      "cell_type": "code",
      "metadata": {
        "id": "JEFZn0TnlBmt",
        "colab_type": "code",
        "colab": {}
      },
      "source": [
        "learn = language_model_learner(data, AWD_LSTM, drop_mult=0.5, pretrained=False,metrics=[accuracy,Perplexity()]).to_fp16()"
      ],
      "execution_count": 0,
      "outputs": []
    },
    {
      "cell_type": "code",
      "metadata": {
        "id": "u6bVycjOlomo",
        "colab_type": "code",
        "colab": {}
      },
      "source": [
        "lr = 1e-2\n",
        "lr *= bs/48  # Scaling the learning rate by batch size"
      ],
      "execution_count": 0,
      "outputs": []
    },
    {
      "cell_type": "code",
      "metadata": {
        "id": "3CTk0355lou3",
        "colab_type": "code",
        "colab": {
          "base_uri": "https://localhost:8080/",
          "height": 514
        },
        "outputId": "556a0a77-7107-485c-bca8-c16cfc6700bb"
      },
      "source": [
        "learn.unfreeze()\n",
        "learn.fit_one_cycle(15, lr, moms=(0.8,0.7))"
      ],
      "execution_count": 15,
      "outputs": [
        {
          "output_type": "display_data",
          "data": {
            "text/html": [
              "<table border=\"1\" class=\"dataframe\">\n",
              "  <thead>\n",
              "    <tr style=\"text-align: left;\">\n",
              "      <th>epoch</th>\n",
              "      <th>train_loss</th>\n",
              "      <th>valid_loss</th>\n",
              "      <th>accuracy</th>\n",
              "      <th>perplexity</th>\n",
              "      <th>time</th>\n",
              "    </tr>\n",
              "  </thead>\n",
              "  <tbody>\n",
              "    <tr>\n",
              "      <td>0</td>\n",
              "      <td>5.731962</td>\n",
              "      <td>5.313904</td>\n",
              "      <td>0.196456</td>\n",
              "      <td>203.141708</td>\n",
              "      <td>00:35</td>\n",
              "    </tr>\n",
              "    <tr>\n",
              "      <td>1</td>\n",
              "      <td>4.814239</td>\n",
              "      <td>4.587552</td>\n",
              "      <td>0.257634</td>\n",
              "      <td>98.253624</td>\n",
              "      <td>00:35</td>\n",
              "    </tr>\n",
              "    <tr>\n",
              "      <td>2</td>\n",
              "      <td>4.492496</td>\n",
              "      <td>4.421658</td>\n",
              "      <td>0.266566</td>\n",
              "      <td>83.234138</td>\n",
              "      <td>00:35</td>\n",
              "    </tr>\n",
              "    <tr>\n",
              "      <td>3</td>\n",
              "      <td>4.402434</td>\n",
              "      <td>4.390825</td>\n",
              "      <td>0.267863</td>\n",
              "      <td>80.706993</td>\n",
              "      <td>00:36</td>\n",
              "    </tr>\n",
              "    <tr>\n",
              "      <td>4</td>\n",
              "      <td>4.317959</td>\n",
              "      <td>4.339634</td>\n",
              "      <td>0.272140</td>\n",
              "      <td>76.679543</td>\n",
              "      <td>00:35</td>\n",
              "    </tr>\n",
              "    <tr>\n",
              "      <td>5</td>\n",
              "      <td>4.200906</td>\n",
              "      <td>4.289844</td>\n",
              "      <td>0.278106</td>\n",
              "      <td>72.954987</td>\n",
              "      <td>00:36</td>\n",
              "    </tr>\n",
              "    <tr>\n",
              "      <td>6</td>\n",
              "      <td>4.097507</td>\n",
              "      <td>4.251066</td>\n",
              "      <td>0.282893</td>\n",
              "      <td>70.180168</td>\n",
              "      <td>00:36</td>\n",
              "    </tr>\n",
              "    <tr>\n",
              "      <td>7</td>\n",
              "      <td>3.984800</td>\n",
              "      <td>4.211158</td>\n",
              "      <td>0.287816</td>\n",
              "      <td>67.434570</td>\n",
              "      <td>00:36</td>\n",
              "    </tr>\n",
              "    <tr>\n",
              "      <td>8</td>\n",
              "      <td>3.832767</td>\n",
              "      <td>4.174318</td>\n",
              "      <td>0.291354</td>\n",
              "      <td>64.995422</td>\n",
              "      <td>00:36</td>\n",
              "    </tr>\n",
              "    <tr>\n",
              "      <td>9</td>\n",
              "      <td>3.700561</td>\n",
              "      <td>4.152410</td>\n",
              "      <td>0.295367</td>\n",
              "      <td>63.587059</td>\n",
              "      <td>00:36</td>\n",
              "    </tr>\n",
              "    <tr>\n",
              "      <td>10</td>\n",
              "      <td>3.557621</td>\n",
              "      <td>4.136552</td>\n",
              "      <td>0.299048</td>\n",
              "      <td>62.586670</td>\n",
              "      <td>00:36</td>\n",
              "    </tr>\n",
              "    <tr>\n",
              "      <td>11</td>\n",
              "      <td>3.413554</td>\n",
              "      <td>4.134665</td>\n",
              "      <td>0.301122</td>\n",
              "      <td>62.468662</td>\n",
              "      <td>00:36</td>\n",
              "    </tr>\n",
              "    <tr>\n",
              "      <td>12</td>\n",
              "      <td>3.282763</td>\n",
              "      <td>4.143317</td>\n",
              "      <td>0.302447</td>\n",
              "      <td>63.011559</td>\n",
              "      <td>00:36</td>\n",
              "    </tr>\n",
              "    <tr>\n",
              "      <td>13</td>\n",
              "      <td>3.172024</td>\n",
              "      <td>4.152894</td>\n",
              "      <td>0.302994</td>\n",
              "      <td>63.617783</td>\n",
              "      <td>00:36</td>\n",
              "    </tr>\n",
              "    <tr>\n",
              "      <td>14</td>\n",
              "      <td>3.134966</td>\n",
              "      <td>4.158449</td>\n",
              "      <td>0.303041</td>\n",
              "      <td>63.972233</td>\n",
              "      <td>00:37</td>\n",
              "    </tr>\n",
              "  </tbody>\n",
              "</table>"
            ],
            "text/plain": [
              "<IPython.core.display.HTML object>"
            ]
          },
          "metadata": {
            "tags": []
          }
        }
      ]
    },
    {
      "cell_type": "code",
      "metadata": {
        "id": "Bd7Bi8w4pS24",
        "colab_type": "code",
        "colab": {}
      },
      "source": [
        "learn.save('H_Model1')"
      ],
      "execution_count": 0,
      "outputs": []
    },
    {
      "cell_type": "code",
      "metadata": {
        "id": "AkXOHgxolop6",
        "colab_type": "code",
        "colab": {
          "base_uri": "https://localhost:8080/",
          "height": 374
        },
        "outputId": "3fe81bd0-b60b-478d-f7fa-9ca386deb346"
      },
      "source": [
        "learn.load('H_Model1')\n",
        "learn.lr_find()\n",
        "learn.recorder.plot()"
      ],
      "execution_count": 17,
      "outputs": [
        {
          "output_type": "display_data",
          "data": {
            "text/html": [
              "\n",
              "    <div>\n",
              "        <style>\n",
              "            /* Turns off some styling */\n",
              "            progress {\n",
              "                /* gets rid of default border in Firefox and Opera. */\n",
              "                border: none;\n",
              "                /* Needs to be in here for Safari polyfill so background images work as expected. */\n",
              "                background-size: auto;\n",
              "            }\n",
              "            .progress-bar-interrupted, .progress-bar-interrupted::-webkit-progress-bar {\n",
              "                background: #F44336;\n",
              "            }\n",
              "        </style>\n",
              "      <progress value='0' class='' max='1', style='width:300px; height:20px; vertical-align: middle;'></progress>\n",
              "      0.00% [0/1 00:00<00:00]\n",
              "    </div>\n",
              "    \n",
              "<table border=\"1\" class=\"dataframe\">\n",
              "  <thead>\n",
              "    <tr style=\"text-align: left;\">\n",
              "      <th>epoch</th>\n",
              "      <th>train_loss</th>\n",
              "      <th>valid_loss</th>\n",
              "      <th>accuracy</th>\n",
              "      <th>perplexity</th>\n",
              "      <th>time</th>\n",
              "    </tr>\n",
              "  </thead>\n",
              "  <tbody>\n",
              "  </tbody>\n",
              "</table><p>\n",
              "\n",
              "    <div>\n",
              "        <style>\n",
              "            /* Turns off some styling */\n",
              "            progress {\n",
              "                /* gets rid of default border in Firefox and Opera. */\n",
              "                border: none;\n",
              "                /* Needs to be in here for Safari polyfill so background images work as expected. */\n",
              "                background-size: auto;\n",
              "            }\n",
              "            .progress-bar-interrupted, .progress-bar-interrupted::-webkit-progress-bar {\n",
              "                background: #F44336;\n",
              "            }\n",
              "        </style>\n",
              "      <progress value='94' class='' max='211', style='width:300px; height:20px; vertical-align: middle;'></progress>\n",
              "      44.55% [94/211 00:14<00:18 12.0610]\n",
              "    </div>\n",
              "    "
            ],
            "text/plain": [
              "<IPython.core.display.HTML object>"
            ]
          },
          "metadata": {
            "tags": []
          }
        },
        {
          "output_type": "stream",
          "text": [
            "LR Finder is complete, type {learner_name}.recorder.plot() to see the graph.\n"
          ],
          "name": "stdout"
        },
        {
          "output_type": "display_data",
          "data": {
            "image/png": "[encoded data removed]",
            "text/plain": [
              "<Figure size 432x288 with 1 Axes>"
            ]
          },
          "metadata": {
            "tags": []
          }
        }
      ]
    },
    {
      "cell_type": "code",
      "metadata": {
        "id": "zv8JZTkauhLo",
        "colab_type": "code",
        "colab": {
          "base_uri": "https://localhost:8080/",
          "height": 34
        },
        "outputId": "dd27f720-2a29-46a7-f755-e41e1bb4a8cc"
      },
      "source": [
        "gc.collect()"
      ],
      "execution_count": 27,
      "outputs": [
        {
          "output_type": "execute_result",
          "data": {
            "text/plain": [
              "780"
            ]
          },
          "metadata": {
            "tags": []
          },
          "execution_count": 27
        }
      ]
    },
    {
      "cell_type": "code",
      "metadata": {
        "id": "ylPHRRaQpgE1",
        "colab_type": "code",
        "colab": {
          "base_uri": "https://localhost:8080/",
          "height": 204
        },
        "outputId": "0b2539f2-0ecb-4b4a-e749-1c3edde0fb86"
      },
      "source": [
        "learn.load('H_Model1')\n",
        "learn.unfreeze()\n",
        "learn.fit_one_cycle(5, 1e-3)"
      ],
      "execution_count": 28,
      "outputs": [
        {
          "output_type": "display_data",
          "data": {
            "text/html": [
              "<table border=\"1\" class=\"dataframe\">\n",
              "  <thead>\n",
              "    <tr style=\"text-align: left;\">\n",
              "      <th>epoch</th>\n",
              "      <th>train_loss</th>\n",
              "      <th>valid_loss</th>\n",
              "      <th>accuracy</th>\n",
              "      <th>perplexity</th>\n",
              "      <th>time</th>\n",
              "    </tr>\n",
              "  </thead>\n",
              "  <tbody>\n",
              "    <tr>\n",
              "      <td>0</td>\n",
              "      <td>3.137799</td>\n",
              "      <td>4.158897</td>\n",
              "      <td>0.303195</td>\n",
              "      <td>64.000885</td>\n",
              "      <td>00:36</td>\n",
              "    </tr>\n",
              "    <tr>\n",
              "      <td>1</td>\n",
              "      <td>3.149056</td>\n",
              "      <td>4.159355</td>\n",
              "      <td>0.302944</td>\n",
              "      <td>64.030220</td>\n",
              "      <td>00:36</td>\n",
              "    </tr>\n",
              "    <tr>\n",
              "      <td>2</td>\n",
              "      <td>3.128989</td>\n",
              "      <td>4.162050</td>\n",
              "      <td>0.302984</td>\n",
              "      <td>64.203087</td>\n",
              "      <td>00:36</td>\n",
              "    </tr>\n",
              "    <tr>\n",
              "      <td>3</td>\n",
              "      <td>3.087258</td>\n",
              "      <td>4.165887</td>\n",
              "      <td>0.303100</td>\n",
              "      <td>64.449875</td>\n",
              "      <td>00:36</td>\n",
              "    </tr>\n",
              "    <tr>\n",
              "      <td>4</td>\n",
              "      <td>3.084037</td>\n",
              "      <td>4.167521</td>\n",
              "      <td>0.303093</td>\n",
              "      <td>64.555252</td>\n",
              "      <td>00:36</td>\n",
              "    </tr>\n",
              "  </tbody>\n",
              "</table>"
            ],
            "text/plain": [
              "<IPython.core.display.HTML object>"
            ]
          },
          "metadata": {
            "tags": []
          }
        }
      ]
    },
    {
      "cell_type": "code",
      "metadata": {
        "id": "78WmN4jNyh_S",
        "colab_type": "code",
        "colab": {}
      },
      "source": [
        "learn.save('final')\n",
        "learn.save_encoder('ftenc')"
      ],
      "execution_count": 0,
      "outputs": []
    },
    {
      "cell_type": "code",
      "metadata": {
        "id": "5wNfZck9qBrx",
        "colab_type": "code",
        "colab": {
          "base_uri": "https://localhost:8080/",
          "height": 34
        },
        "outputId": "9496fde7-992d-4689-b59c-493d9037e4fc"
      },
      "source": [
        "gc.collect()"
      ],
      "execution_count": 44,
      "outputs": [
        {
          "output_type": "execute_result",
          "data": {
            "text/plain": [
              "2274"
            ]
          },
          "metadata": {
            "tags": []
          },
          "execution_count": 44
        }
      ]
    },
    {
      "cell_type": "markdown",
      "metadata": {
        "id": "kxj27HGWDCwE",
        "colab_type": "text"
      },
      "source": [
        "# Lets try to complete acutual News Headlines\n",
        "\n",
        "![kd](https://i.ibb.co/0BwNzp7/sdfsfs.jpg)\n",
        "\n",
        "\n",
        "* Actual New headline from **BBC Hindi**.\n",
        "\n",
        "* **Three** different Takes"
      ]
    },
    {
      "cell_type": "code",
      "metadata": {
        "id": "IfBfdCaatQJE",
        "colab_type": "code",
        "colab": {
          "base_uri": "https://localhost:8080/",
          "height": 88
        },
        "outputId": "f56d587d-23df-4b02-8605-26007e80dd8b"
      },
      "source": [
        "for i in range(3):\n",
        "  print(learn.predict('सऊदी अरब की जेलों में बंद पाकिस्तानी क़ैदियों की कहानी',n_words=50,temperature=0.75))"
      ],
      "execution_count": 55,
      "outputs": [
        {
          "output_type": "stream",
          "text": [
            "सऊदी अरब की जेलों में बंद पाकिस्तानी क़ैदियों की कहानी में भी है . हाल ही में संयुक्त राष्ट्र ने एक रिपोर्ट के आधार पर कहा है कि इस जानकारी के अनुसार ये वाक्यांश अब ज़्यादा पुराना है . और इन क़ैदियों को गवाही देने के लिए बगराम के पास से ही 1920 में हुए ख़ूनी संघर्ष में इनकी संख्या\n",
            "सऊदी अरब की जेलों में बंद पाकिस्तानी क़ैदियों की कहानी लिखने वाले पाकिस्तान के ख़िलाफ़ अफगानिस्तान में लड़ाई भड़काने वाले सैनिक हमलों के ख़िलाफ़ हैं . तालिबान की पूरी ज़मीन पर हमलों के लिए एक बड़ी साज़िश का आयोजन किया गया है . एक अन्य सैन्य अधिकारी ने कहा है कि ये हमला ईस्ट ईस्ट इंडिया दुनिया भर की ही\n",
            "सऊदी अरब की जेलों में बंद पाकिस्तानी क़ैदियों की कहानी अपनी एक तस्वीर और एक प्रकाशक के साथ बातचीत कर रही थी . इस घटना को जर्मन ख़ुफ़िया और उसके सहयोगी बताते हैं . इस देश के खनिज सम्मेलन में अब तक सैंकड़ों लोग मारे जा चुके हैं . इन आंकड़ों के बाद शुक्रवार को हुए इस धमाके में एक\n"
          ],
          "name": "stdout"
        }
      ]
    },
    {
      "cell_type": "markdown",
      "metadata": {
        "id": "wzXVsCFZDVRt",
        "colab_type": "text"
      },
      "source": [
        "![kd](https://i.ibb.co/zhNBv1p/bbcsdf.jpg)\n",
        "\n",
        "* Actual New headline from **BBC Hindi**."
      ]
    },
    {
      "cell_type": "code",
      "metadata": {
        "id": "eLbLlj9JtVNo",
        "colab_type": "code",
        "colab": {
          "base_uri": "https://localhost:8080/",
          "height": 54
        },
        "outputId": "3fff350e-5932-4f09-db05-fbe5a4469868"
      },
      "source": [
        "learn.predict('लंदन: मस्जिद में चाकू से हमला, एक गिरफ़्तार',n_words=50,temperature=0.65)\n"
      ],
      "execution_count": 57,
      "outputs": [
        {
          "output_type": "execute_result",
          "data": {
            "text/plain": [
              "'लंदन: मस्जिद में चाकू से हमला, एक गिरफ़्तार और दो कांस्टेबल समेत कई लोग घायल हो गए . पुलिस का कहना है कि इस घटना के बाद पुलिस ने थानेदार को गिरफ्तार कर लिया है . पुलिस का कहना है कि बंदूक़धारी के अनुसार चार घायल व्यक्ति फरार हैं . पुलिस के अनुसार पुलिस ने बताया है कि'"
            ]
          },
          "metadata": {
            "tags": []
          },
          "execution_count": 57
        }
      ]
    },
    {
      "cell_type": "code",
      "metadata": {
        "id": "T5SxYtv1tVY3",
        "colab_type": "code",
        "colab": {}
      },
      "source": [
        ""
      ],
      "execution_count": 0,
      "outputs": []
    },
    {
      "cell_type": "markdown",
      "metadata": {
        "id": "U4lh8RQd0JXH",
        "colab_type": "text"
      },
      "source": [
        "# Hindi News Classifier"
      ]
    },
    {
      "cell_type": "markdown",
      "metadata": {
        "id": "rEPMMHSJ9hAc",
        "colab_type": "text"
      },
      "source": [
        "* News categories"
      ]
    },
    {
      "cell_type": "code",
      "metadata": {
        "id": "AXXRxMOO9OYW",
        "colab_type": "code",
        "colab": {
          "base_uri": "https://localhost:8080/",
          "height": 272
        },
        "outputId": "9b506563-e70b-4b05-99c3-d807f16ea4a2"
      },
      "source": [
        "train_df.category.value_counts()"
      ],
      "execution_count": 63,
      "outputs": [
        {
          "output_type": "execute_result",
          "data": {
            "text/plain": [
              "india              1746\n",
              "international      1116\n",
              "entertainment       356\n",
              "sport               330\n",
              "news                279\n",
              "science             255\n",
              "business             61\n",
              "southasia            52\n",
              "pakistan             51\n",
              "social               24\n",
              "institutional        23\n",
              "china                19\n",
              "multimedia           13\n",
              "learningenglish       8\n",
              "Name: category, dtype: int64"
            ]
          },
          "metadata": {
            "tags": []
          },
          "execution_count": 63
        }
      ]
    },
    {
      "cell_type": "code",
      "metadata": {
        "id": "PXysg9YoBVEH",
        "colab_type": "code",
        "colab": {
          "base_uri": "https://localhost:8080/",
          "height": 204
        },
        "outputId": "17a576b6-36cf-4678-df89-26a86393c2fe"
      },
      "source": [
        "train_df.head()"
      ],
      "execution_count": 13,
      "outputs": [
        {
          "output_type": "execute_result",
          "data": {
            "text/html": [
              "<div>\n",
              "<style scoped>\n",
              "    .dataframe tbody tr th:only-of-type {\n",
              "        vertical-align: middle;\n",
              "    }\n",
              "\n",
              "    .dataframe tbody tr th {\n",
              "        vertical-align: top;\n",
              "    }\n",
              "\n",
              "    .dataframe thead th {\n",
              "        text-align: right;\n",
              "    }\n",
              "</style>\n",
              "<table border=\"1\" class=\"dataframe\">\n",
              "  <thead>\n",
              "    <tr style=\"text-align: right;\">\n",
              "      <th></th>\n",
              "      <th>category</th>\n",
              "      <th>text</th>\n",
              "    </tr>\n",
              "  </thead>\n",
              "  <tbody>\n",
              "    <tr>\n",
              "      <th>0</th>\n",
              "      <td>india</td>\n",
              "      <td>मेट्रो की इस लाइन के चलने से दक्षिणी दिल्ली से...</td>\n",
              "    </tr>\n",
              "    <tr>\n",
              "      <th>1</th>\n",
              "      <td>pakistan</td>\n",
              "      <td>नेटिजन यानि इंटरनेट पर सक्रिय नागरिक अब ट्विटर...</td>\n",
              "    </tr>\n",
              "    <tr>\n",
              "      <th>2</th>\n",
              "      <td>news</td>\n",
              "      <td>इसमें एक फ़्लाइट एटेनडेंट की मदद की गुहार है औ...</td>\n",
              "    </tr>\n",
              "    <tr>\n",
              "      <th>3</th>\n",
              "      <td>india</td>\n",
              "      <td>प्रतीक खुलेपन का, आज़ाद ख्याली का और भीड़ से अ...</td>\n",
              "    </tr>\n",
              "    <tr>\n",
              "      <th>4</th>\n",
              "      <td>india</td>\n",
              "      <td>ख़ासकर पिछले 10 साल तक प्रधानमंत्री रहे मनमोहन...</td>\n",
              "    </tr>\n",
              "  </tbody>\n",
              "</table>\n",
              "</div>"
            ],
            "text/plain": [
              "   category                                               text\n",
              "0     india  मेट्रो की इस लाइन के चलने से दक्षिणी दिल्ली से...\n",
              "1  pakistan  नेटिजन यानि इंटरनेट पर सक्रिय नागरिक अब ट्विटर...\n",
              "2      news  इसमें एक फ़्लाइट एटेनडेंट की मदद की गुहार है औ...\n",
              "3     india  प्रतीक खुलेपन का, आज़ाद ख्याली का और भीड़ से अ...\n",
              "4     india  ख़ासकर पिछले 10 साल तक प्रधानमंत्री रहे मनमोहन..."
            ]
          },
          "metadata": {
            "tags": []
          },
          "execution_count": 13
        }
      ]
    },
    {
      "cell_type": "code",
      "metadata": {
        "id": "hp-MvCpJtVVh",
        "colab_type": "code",
        "colab": {
          "base_uri": "https://localhost:8080/",
          "height": 17
        },
        "outputId": "f8fbf0a3-6b1d-4313-a639-996ad08ffb1c"
      },
      "source": [
        "data_clas = (TextList.from_df(train_df, path, vocab=data.vocab, cols='text')\n",
        "    .split_by_rand_pct(0.1, seed=42)\n",
        "    .label_from_df(cols='category')\n",
        "    .databunch(bs=bs, num_workers=1))"
      ],
      "execution_count": 15,
      "outputs": [
        {
          "output_type": "display_data",
          "data": {
            "text/html": [
              ""
            ],
            "text/plain": [
              "<IPython.core.display.HTML object>"
            ]
          },
          "metadata": {
            "tags": []
          }
        },
        {
          "output_type": "display_data",
          "data": {
            "text/html": [
              ""
            ],
            "text/plain": [
              "<IPython.core.display.HTML object>"
            ]
          },
          "metadata": {
            "tags": []
          }
        }
      ]
    },
    {
      "cell_type": "code",
      "metadata": {
        "id": "YDA6Y-9kBCAm",
        "colab_type": "code",
        "colab": {
          "base_uri": "https://localhost:8080/",
          "height": 337
        },
        "outputId": "0de55d01-d514-4069-81fe-8235ed6817f8"
      },
      "source": [
        "data_clas.show_batch(rows=6)"
      ],
      "execution_count": 16,
      "outputs": [
        {
          "output_type": "display_data",
          "data": {
            "text/html": [
              "<table border=\"1\" class=\"dataframe\">\n",
              "  <thead>\n",
              "    <tr style=\"text-align: right;\">\n",
              "      <th>text</th>\n",
              "      <th>target</th>\n",
              "    </tr>\n",
              "  </thead>\n",
              "  <tbody>\n",
              "    <tr>\n",
              "      <td>xxbos 1920 के दशक में फ़ीफ़ा के अध्यक्ष xxunk रिमे और फ़्रांस के फ़ुटबॉल xxunk ने दुनिया की बेहतरीन फ़ुटबॉल टीम तय करने के लिए प्रतियोगिता कराने का विचार किया . 1929 में फ़ीफ़ा ने एक प्रस्ताव पारित करके विश्व कप फ़ुटबॉल आयोजित कराने का फ़ैसला xxunk में शुरू हुई ये प्रतियोगिता हर चार साल पर आयोजित होती है . दूसरे विश्व युद्ध के कारण 1942 और 1946 में विश्व</td>\n",
              "      <td>sport</td>\n",
              "    </tr>\n",
              "    <tr>\n",
              "      <td>xxbos खिलाड़ियों ने रंगीन पोशाकें पहननी शुरू की , गेंद xxunk हो गई और अंपायर तक रंगीन पोशाक में नज़र आने लगे . मैच दिन - रात के होने लगे और 50 - 50 ओवरों के मैच होने लगे . पहले तीन विश्व कप इंग्लैंड में आयोजित हुए और तीन में दो विश्व कप का ख़िताब वेस्टइंडीज़ ने जीता . लेकिन 1983 का विश्व कप जीतकर भारत ने बड़ा उलटफेर</td>\n",
              "      <td>sport</td>\n",
              "    </tr>\n",
              "    <tr>\n",
              "      <td>xxbos शुभ्रांशु चौधरी ने सात वर्षों के लंबे शोध के बाद ये किताब लिखी है . अंग्रेज़ी और हिंदी दोनों भाषाओं में प्रकाशित इस किताब का एक अंश हम अपने पाठकों के लिए प्रकाशित कर रहे हैं . समय जैसे उड़ गया . फिर विदा लेने का समय हो गया . कैंप में सभी कतार बांध कर हाथ मिलाने और लाल सलाम कहने को खड़े हो गए . इस बार</td>\n",
              "      <td>india</td>\n",
              "    </tr>\n",
              "    <tr>\n",
              "      <td>xxbos 1996 में जब राज कपूर के बेटे रणधीर कपूर और बेटी ऋतु नंदा चीन गए तो उनकी आँखों में उस समय आंसू आ गए जब चीनी लोगों ने उन्हें देखते ही ' आवारा हूँ ' गाने लगते . उन्हें ये नहीं पता था कि ये दोनों राज कपूर के बेटे बेटी थे , लेकिन वो ये गीत गा कर राज कपूर और भारत का सम्मान कर रहे थे .</td>\n",
              "      <td>entertainment</td>\n",
              "    </tr>\n",
              "    <tr>\n",
              "      <td>xxbos भारत विभाजन के 70 साल होने पर मैं अपनी मां को भारत ले जाना चाहता था ताकि मेरी 80 साल की मां xxunk हमदानी xxunk में अपना पुराना घर देख सकें . दूसरी ओर मेरी साथी इशलीन कौर को अपने दादा सरदार उजागर सिंह को पाकिस्तान ले जाना था . 89 साल के उजागर सिंह लायलपुर से भारत चले गए थे . लेकिन न तो मुझे और मेरी मां</td>\n",
              "      <td>international</td>\n",
              "    </tr>\n",
              "    <tr>\n",
              "      <td>xxbos उस ज़माने में भारतीय टीम में एक - दो अच्छे खिलाड़ी ज़रूर थे लेकिन उन्हें जीत का स्वाद चखने की आदत नहीं पड़ी थी . तेज़ गेंदबाज़ी का आलम ये था कि विकेटकीपर रहे xxunk xxunk पहला ओवर फेंका करते थे . किसी रणनीति के तहत नहीं , बल्कि इसलिए कि पूरी टीम में कोई तेज़ गेंदबाज़ था ही नहीं . 'एक आंख , एक पैर ' से xxunk</td>\n",
              "      <td>india</td>\n",
              "    </tr>\n",
              "  </tbody>\n",
              "</table>"
            ],
            "text/plain": [
              "<IPython.core.display.HTML object>"
            ]
          },
          "metadata": {
            "tags": []
          }
        }
      ]
    },
    {
      "cell_type": "markdown",
      "metadata": {
        "id": "iPvn3Qg70Qvi",
        "colab_type": "text"
      },
      "source": [
        "## Metrics f1_score"
      ]
    },
    {
      "cell_type": "code",
      "metadata": {
        "id": "i_I_Utsi4X9z",
        "colab_type": "code",
        "colab": {}
      },
      "source": [
        "f2 = FBeta()\n",
        "f2.average='weighted'"
      ],
      "execution_count": 0,
      "outputs": []
    },
    {
      "cell_type": "code",
      "metadata": {
        "id": "8Gu2WwzH0I1g",
        "colab_type": "code",
        "colab": {}
      },
      "source": [
        "learn_c = text_classifier_learner(data_clas, AWD_LSTM, pretrained=False , drop_mult=0.5, metrics=[accuracy,f2]).to_fp16()\n",
        "learn_c.load_encoder('ftenc')\n",
        "learn_c.freeze()"
      ],
      "execution_count": 0,
      "outputs": []
    },
    {
      "cell_type": "code",
      "metadata": {
        "id": "FLTD0Dti0IzO",
        "colab_type": "code",
        "colab": {}
      },
      "source": [
        "lr=2e-2\n",
        "lr *= bs/48"
      ],
      "execution_count": 0,
      "outputs": []
    },
    {
      "cell_type": "code",
      "metadata": {
        "id": "eBziSl4S0Iwf",
        "colab_type": "code",
        "colab": {
          "base_uri": "https://localhost:8080/",
          "height": 359
        },
        "outputId": "0098b005-d7ed-410e-ac9e-d71773ff7c1b"
      },
      "source": [
        "learn_c.fit_one_cycle(10, lr, moms=(0.8,0.7))"
      ],
      "execution_count": 22,
      "outputs": [
        {
          "output_type": "display_data",
          "data": {
            "text/html": [
              "<table border=\"1\" class=\"dataframe\">\n",
              "  <thead>\n",
              "    <tr style=\"text-align: left;\">\n",
              "      <th>epoch</th>\n",
              "      <th>train_loss</th>\n",
              "      <th>valid_loss</th>\n",
              "      <th>accuracy</th>\n",
              "      <th>f_beta</th>\n",
              "      <th>time</th>\n",
              "    </tr>\n",
              "  </thead>\n",
              "  <tbody>\n",
              "    <tr>\n",
              "      <td>0</td>\n",
              "      <td>1.418805</td>\n",
              "      <td>0.952847</td>\n",
              "      <td>0.690531</td>\n",
              "      <td>0.670485</td>\n",
              "      <td>00:24</td>\n",
              "    </tr>\n",
              "    <tr>\n",
              "      <td>1</td>\n",
              "      <td>1.069217</td>\n",
              "      <td>0.808977</td>\n",
              "      <td>0.718245</td>\n",
              "      <td>0.710587</td>\n",
              "      <td>00:23</td>\n",
              "    </tr>\n",
              "    <tr>\n",
              "      <td>2</td>\n",
              "      <td>0.915867</td>\n",
              "      <td>0.855018</td>\n",
              "      <td>0.697460</td>\n",
              "      <td>0.679505</td>\n",
              "      <td>00:23</td>\n",
              "    </tr>\n",
              "    <tr>\n",
              "      <td>3</td>\n",
              "      <td>0.795260</td>\n",
              "      <td>0.700155</td>\n",
              "      <td>0.771363</td>\n",
              "      <td>0.770147</td>\n",
              "      <td>00:23</td>\n",
              "    </tr>\n",
              "    <tr>\n",
              "      <td>4</td>\n",
              "      <td>0.716566</td>\n",
              "      <td>0.723106</td>\n",
              "      <td>0.752887</td>\n",
              "      <td>0.745949</td>\n",
              "      <td>00:25</td>\n",
              "    </tr>\n",
              "    <tr>\n",
              "      <td>5</td>\n",
              "      <td>0.639550</td>\n",
              "      <td>0.744450</td>\n",
              "      <td>0.757506</td>\n",
              "      <td>0.756467</td>\n",
              "      <td>00:26</td>\n",
              "    </tr>\n",
              "    <tr>\n",
              "      <td>6</td>\n",
              "      <td>0.584152</td>\n",
              "      <td>0.677333</td>\n",
              "      <td>0.766744</td>\n",
              "      <td>0.762378</td>\n",
              "      <td>00:24</td>\n",
              "    </tr>\n",
              "    <tr>\n",
              "      <td>7</td>\n",
              "      <td>0.512121</td>\n",
              "      <td>0.683973</td>\n",
              "      <td>0.766744</td>\n",
              "      <td>0.762855</td>\n",
              "      <td>00:24</td>\n",
              "    </tr>\n",
              "    <tr>\n",
              "      <td>8</td>\n",
              "      <td>0.451812</td>\n",
              "      <td>0.703521</td>\n",
              "      <td>0.775982</td>\n",
              "      <td>0.773055</td>\n",
              "      <td>00:24</td>\n",
              "    </tr>\n",
              "    <tr>\n",
              "      <td>9</td>\n",
              "      <td>0.405528</td>\n",
              "      <td>0.697988</td>\n",
              "      <td>0.771363</td>\n",
              "      <td>0.768272</td>\n",
              "      <td>00:24</td>\n",
              "    </tr>\n",
              "  </tbody>\n",
              "</table>"
            ],
            "text/plain": [
              "<IPython.core.display.HTML object>"
            ]
          },
          "metadata": {
            "tags": []
          }
        }
      ]
    },
    {
      "cell_type": "code",
      "metadata": {
        "id": "Hxkb4wn80Isy",
        "colab_type": "code",
        "colab": {
          "base_uri": "https://localhost:8080/",
          "height": 467
        },
        "outputId": "b78b5d93-ec81-4bec-ceb9-407ba8d10e36"
      },
      "source": [
        "learn_c.save('clf')\n",
        "learn_c.load('clf')\n",
        "learn_c.unfreeze()\n",
        "learn_c.lr_find()\n",
        "learn_c.recorder.plot()"
      ],
      "execution_count": 23,
      "outputs": [
        {
          "output_type": "display_data",
          "data": {
            "text/html": [
              "\n",
              "    <div>\n",
              "        <style>\n",
              "            /* Turns off some styling */\n",
              "            progress {\n",
              "                /* gets rid of default border in Firefox and Opera. */\n",
              "                border: none;\n",
              "                /* Needs to be in here for Safari polyfill so background images work as expected. */\n",
              "                background-size: auto;\n",
              "            }\n",
              "            .progress-bar-interrupted, .progress-bar-interrupted::-webkit-progress-bar {\n",
              "                background: #F44336;\n",
              "            }\n",
              "        </style>\n",
              "      <progress value='3' class='' max='4', style='width:300px; height:20px; vertical-align: middle;'></progress>\n",
              "      75.00% [3/4 01:06<00:22]\n",
              "    </div>\n",
              "    \n",
              "<table border=\"1\" class=\"dataframe\">\n",
              "  <thead>\n",
              "    <tr style=\"text-align: left;\">\n",
              "      <th>epoch</th>\n",
              "      <th>train_loss</th>\n",
              "      <th>valid_loss</th>\n",
              "      <th>accuracy</th>\n",
              "      <th>f_beta</th>\n",
              "      <th>time</th>\n",
              "    </tr>\n",
              "  </thead>\n",
              "  <tbody>\n",
              "    <tr>\n",
              "      <td>0</td>\n",
              "      <td>0.337054</td>\n",
              "      <td>#na#</td>\n",
              "      <td>00:22</td>\n",
              "    </tr>\n",
              "    <tr>\n",
              "      <td>1</td>\n",
              "      <td>0.347020</td>\n",
              "      <td>#na#</td>\n",
              "      <td>00:22</td>\n",
              "    </tr>\n",
              "    <tr>\n",
              "      <td>2</td>\n",
              "      <td>1.263300</td>\n",
              "      <td>#na#</td>\n",
              "      <td>00:21</td>\n",
              "    </tr>\n",
              "  </tbody>\n",
              "</table><p>\n",
              "\n",
              "    <div>\n",
              "        <style>\n",
              "            /* Turns off some styling */\n",
              "            progress {\n",
              "                /* gets rid of default border in Firefox and Opera. */\n",
              "                border: none;\n",
              "                /* Needs to be in here for Safari polyfill so background images work as expected. */\n",
              "                background-size: auto;\n",
              "            }\n",
              "            .progress-bar-interrupted, .progress-bar-interrupted::-webkit-progress-bar {\n",
              "                background: #F44336;\n",
              "            }\n",
              "        </style>\n",
              "      <progress value='0' class='' max='30', style='width:300px; height:20px; vertical-align: middle;'></progress>\n",
              "      0.00% [0/30 00:00<00:00]\n",
              "    </div>\n",
              "    "
            ],
            "text/plain": [
              "<IPython.core.display.HTML object>"
            ]
          },
          "metadata": {
            "tags": []
          }
        },
        {
          "output_type": "stream",
          "text": [
            "LR Finder is complete, type {learner_name}.recorder.plot() to see the graph.\n"
          ],
          "name": "stdout"
        },
        {
          "output_type": "display_data",
          "data": {
            "image/png": "[encoded data removed]",
            "text/plain": [
              "<Figure size 432x288 with 1 Axes>"
            ]
          },
          "metadata": {
            "tags": []
          }
        }
      ]
    },
    {
      "cell_type": "code",
      "metadata": {
        "id": "e5FL3kht9pHA",
        "colab_type": "code",
        "colab": {
          "base_uri": "https://localhost:8080/",
          "height": 204
        },
        "outputId": "d75cf186-b9ee-4b9f-9a39-76f007bb5c15"
      },
      "source": [
        "learn_c.unfreeze()\n",
        "learn_c.fit_one_cycle(5, slice(1e-4))"
      ],
      "execution_count": 24,
      "outputs": [
        {
          "output_type": "display_data",
          "data": {
            "text/html": [
              "<table border=\"1\" class=\"dataframe\">\n",
              "  <thead>\n",
              "    <tr style=\"text-align: left;\">\n",
              "      <th>epoch</th>\n",
              "      <th>train_loss</th>\n",
              "      <th>valid_loss</th>\n",
              "      <th>accuracy</th>\n",
              "      <th>f_beta</th>\n",
              "      <th>time</th>\n",
              "    </tr>\n",
              "  </thead>\n",
              "  <tbody>\n",
              "    <tr>\n",
              "      <td>0</td>\n",
              "      <td>0.346182</td>\n",
              "      <td>0.703398</td>\n",
              "      <td>0.773672</td>\n",
              "      <td>0.770423</td>\n",
              "      <td>00:25</td>\n",
              "    </tr>\n",
              "    <tr>\n",
              "      <td>1</td>\n",
              "      <td>0.338920</td>\n",
              "      <td>0.698401</td>\n",
              "      <td>0.766744</td>\n",
              "      <td>0.763886</td>\n",
              "      <td>00:24</td>\n",
              "    </tr>\n",
              "    <tr>\n",
              "      <td>2</td>\n",
              "      <td>0.344909</td>\n",
              "      <td>0.707098</td>\n",
              "      <td>0.771363</td>\n",
              "      <td>0.768892</td>\n",
              "      <td>00:24</td>\n",
              "    </tr>\n",
              "    <tr>\n",
              "      <td>3</td>\n",
              "      <td>0.343771</td>\n",
              "      <td>0.700067</td>\n",
              "      <td>0.769053</td>\n",
              "      <td>0.766010</td>\n",
              "      <td>00:25</td>\n",
              "    </tr>\n",
              "    <tr>\n",
              "      <td>4</td>\n",
              "      <td>0.343351</td>\n",
              "      <td>0.706601</td>\n",
              "      <td>0.766744</td>\n",
              "      <td>0.764125</td>\n",
              "      <td>00:25</td>\n",
              "    </tr>\n",
              "  </tbody>\n",
              "</table>"
            ],
            "text/plain": [
              "<IPython.core.display.HTML object>"
            ]
          },
          "metadata": {
            "tags": []
          }
        }
      ]
    },
    {
      "cell_type": "code",
      "metadata": {
        "id": "CaPmX8tt9pA6",
        "colab_type": "code",
        "colab": {
          "base_uri": "https://localhost:8080/",
          "height": 17
        },
        "outputId": "5e1eb99a-4183-4f26-ece7-87244a8491ba"
      },
      "source": [
        "txt_interp = TextClassificationInterpretation.from_learner(learn_c)"
      ],
      "execution_count": 25,
      "outputs": [
        {
          "output_type": "display_data",
          "data": {
            "text/html": [
              ""
            ],
            "text/plain": [
              "<IPython.core.display.HTML object>"
            ]
          },
          "metadata": {
            "tags": []
          }
        }
      ]
    },
    {
      "cell_type": "code",
      "metadata": {
        "id": "uPPBFJeJtVQo",
        "colab_type": "code",
        "colab": {
          "base_uri": "https://localhost:8080/",
          "height": 357
        },
        "outputId": "ac5953f6-d997-4352-a332-dac09ba35d0a"
      },
      "source": [
        "txt_interp.show_top_losses(5)"
      ],
      "execution_count": 26,
      "outputs": [
        {
          "output_type": "display_data",
          "data": {
            "text/html": [
              "<table border=\"1\" class=\"dataframe\">\n",
              "  <thead>\n",
              "    <tr style=\"text-align: right;\">\n",
              "      <th>Text</th>\n",
              "      <th>Prediction</th>\n",
              "      <th>Actual</th>\n",
              "      <th>Loss</th>\n",
              "      <th>Probability</th>\n",
              "    </tr>\n",
              "  </thead>\n",
              "  <tbody>\n",
              "    <tr>\n",
              "      <td>xxbos ख़बरों के मुताबिक़ सुपरस्टार अमिताभ बच्चन और आमिर ख़ान मुंबई के वानखेड़े स्टेडियम में होने वाले सचिन तेंदुलकर के आख़िरी टेस्ट मैच के दौरान मौजूद रहेंगे . लेकिन इस तमाम हंगामे में क्रिकेट के ज़बरदस्त प्रशंसक और आईपीएल की कोलकाता नाइट राइडर्स टीम के मालिक शाहरुख़ ख़ान के xxunk ही रहने की संभावना है . क्योंकि वो एक बैन की वजह से वानखेड़े स्टेडियम में प्रवेश नहीं कर सकते</td>\n",
              "      <td>sport</td>\n",
              "      <td>entertainment</td>\n",
              "      <td>8.07</td>\n",
              "      <td>0.00</td>\n",
              "    </tr>\n",
              "    <tr>\n",
              "      <td>xxbos अकेले हीथ्रो हवाई अड्डे पर एक लाख 16 हज़ार यात्री आने वाले हैं . इस हवाई अड्डे ने 31 काउंटर का एक नया अस्थाई गेम्स टर्मिनल खोला है . उधर xxunk हवाई अड्डे पर 70 हज़ार यात्री आने की उम्मीद है जिनमें दो सौ चीनी एथलीट भी शामिल होंगे . कनाडा , पोलैंड और ऑस्ट्रिया के खिलाड़ी सबसे पहले अपने वतन लौटे हैं . xxunk हवाई अड्डे की एक</td>\n",
              "      <td>international</td>\n",
              "      <td>sport</td>\n",
              "      <td>7.54</td>\n",
              "      <td>0.00</td>\n",
              "    </tr>\n",
              "    <tr>\n",
              "      <td>xxbos एक अख़बार के मुताबिक पीड़िता के भाई ने आसाराम के बयान पर कहा \" हमारे मन में आसाराम के लिए बहुत सम्मान था पर उन्होंने बेहद ही बेतुकी बात कही है . हमारे घर में उनकी कुछ किताबें रखी हैं जो मैं दिल्ली जाते ही जला xxunk . \"बीबीसी ने आसाराम के कुछ अनुयायियों से बात करके जानने कि कोशिश की अपने गुरु के इस वक्तव्य से उनकी आस्था</td>\n",
              "      <td>india</td>\n",
              "      <td>entertainment</td>\n",
              "      <td>7.42</td>\n",
              "      <td>0.00</td>\n",
              "    </tr>\n",
              "    <tr>\n",
              "      <td>xxbos बीबीसी संवाददाता xxunk xxunk के अनुसार तमिलनाडु के वन अधिकारियों को चिंता है कि हाथियों की xxunk के ज़रिए आशीर्वाद देने की इस परंपरा से हाथी बीमार पड़ सकते हैं . तमिलनाडु के मंदिरों में लगभग 50 हाथी है और उन्हें xxunk से तीर्थ यात्रियों के सिर को छूने के लिए मजबूर किया जाता है . वन अधिकारियों का कहना है कि तीर्थ यात्रियों को छूने से हाथियों को</td>\n",
              "      <td>news</td>\n",
              "      <td>science</td>\n",
              "      <td>6.91</td>\n",
              "      <td>0.00</td>\n",
              "    </tr>\n",
              "    <tr>\n",
              "      <td>xxbos “ तेरे आने की जब खबर xxunk , तेरी xxunk से सारा घर xxunk xxunk तेरे xxunk से , शाम के बाद फिर सहर xxunk . xxunk बचपन की xxunk की जगह रूमानियत जैसे नए जज़्बात ले हे थे . वो जज़्बात जो नए थे , समझ में आते भी थे और नहीं भी , xxunk , xxunk . न जाने ऐसे कितने ही लोग होंगे जिनकी xxunk दिल</td>\n",
              "      <td>india</td>\n",
              "      <td>entertainment</td>\n",
              "      <td>6.62</td>\n",
              "      <td>0.00</td>\n",
              "    </tr>\n",
              "  </tbody>\n",
              "</table>"
            ],
            "text/plain": [
              "<IPython.core.display.HTML object>"
            ]
          },
          "metadata": {
            "tags": []
          }
        }
      ]
    },
    {
      "cell_type": "code",
      "metadata": {
        "id": "jwWTVx01Etum",
        "colab_type": "code",
        "colab": {
          "base_uri": "https://localhost:8080/",
          "height": 142
        },
        "outputId": "4d1ac375-2529-42e5-bd3b-ebc388e003e3"
      },
      "source": [
        "learn_c.freeze_to(-2)\n",
        "learn_c.fit_one_cycle(3, slice(lr/(2.6**4),lr), moms=(0.8,0.7))"
      ],
      "execution_count": 27,
      "outputs": [
        {
          "output_type": "display_data",
          "data": {
            "text/html": [
              "<table border=\"1\" class=\"dataframe\">\n",
              "  <thead>\n",
              "    <tr style=\"text-align: left;\">\n",
              "      <th>epoch</th>\n",
              "      <th>train_loss</th>\n",
              "      <th>valid_loss</th>\n",
              "      <th>accuracy</th>\n",
              "      <th>f_beta</th>\n",
              "      <th>time</th>\n",
              "    </tr>\n",
              "  </thead>\n",
              "  <tbody>\n",
              "    <tr>\n",
              "      <td>0</td>\n",
              "      <td>0.516479</td>\n",
              "      <td>0.811369</td>\n",
              "      <td>0.739030</td>\n",
              "      <td>0.738003</td>\n",
              "      <td>00:23</td>\n",
              "    </tr>\n",
              "    <tr>\n",
              "      <td>1</td>\n",
              "      <td>0.537896</td>\n",
              "      <td>0.594995</td>\n",
              "      <td>0.785219</td>\n",
              "      <td>0.784902</td>\n",
              "      <td>00:22</td>\n",
              "    </tr>\n",
              "    <tr>\n",
              "      <td>2</td>\n",
              "      <td>0.414612</td>\n",
              "      <td>0.602531</td>\n",
              "      <td>0.796767</td>\n",
              "      <td>0.793586</td>\n",
              "      <td>00:25</td>\n",
              "    </tr>\n",
              "  </tbody>\n",
              "</table>"
            ],
            "text/plain": [
              "<IPython.core.display.HTML object>"
            ]
          },
          "metadata": {
            "tags": []
          }
        }
      ]
    },
    {
      "cell_type": "markdown",
      "metadata": {
        "id": "ZrEB2uqctT3h",
        "colab_type": "text"
      },
      "source": [
        "# Saving fp32 version"
      ]
    },
    {
      "cell_type": "code",
      "metadata": {
        "id": "LzxJ0aARtQGU",
        "colab_type": "code",
        "colab": {}
      },
      "source": [
        "learn.to_fp32().save('/content/hindi_model/hindiM1', with_opt=False)\n",
        "learn.data.vocab.save('/content/hindi_model/HindiVocab.pkl')"
      ],
      "execution_count": 0,
      "outputs": []
    },
    {
      "cell_type": "code",
      "metadata": {
        "id": "2Jo84r-S0yD6",
        "colab_type": "code",
        "colab": {}
      },
      "source": [
        ""
      ],
      "execution_count": 0,
      "outputs": []
    }
  ]
}